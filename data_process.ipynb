{
 "cells": [
  {
   "cell_type": "code",
   "execution_count": 1,
   "id": "7b7fd651-0401-4f71-b87e-06a8f1fbe309",
   "metadata": {},
   "outputs": [],
   "source": [
    "import os\n",
    "import zipfile\n",
    "import shutil\n",
    "import cv2\n",
    "from skimage.metrics import structural_similarity as ssim\n",
    "from tqdm import tqdm\n",
    "import pickle\n",
    "from logging_file import *\n",
    "from utils.plot_utils import *"
   ]
  },
  {
   "cell_type": "code",
   "execution_count": 12,
   "id": "306eec7b-4bcb-4838-b3ef-aa8ea4204ca3",
   "metadata": {},
   "outputs": [],
   "source": [
    "def extract_zip(zip_path, extract_to):\n",
    "    with zipfile.ZipFile(zip_path, 'r') as zip_ref:\n",
    "        zip_ref.extractall(extract_to)\n",
    "\n",
    "def make_data_folder(zip_dir, data_dir):\n",
    "    images_dir = os.path.join(data_dir, \"images\")\n",
    "    annotations_dir = os.path.join(data_dir, \"annotations\")\n",
    "\n",
    "    if os.path.exists(data_dir):\n",
    "        shutil.rmtree(data_dir)\n",
    "    os.makedirs(data_dir)\n",
    "    os.makedirs(images_dir, exist_ok=True)\n",
    "    os.makedirs(annotations_dir, exist_ok=True)\n",
    "\n",
    "    zip_files = [f for f in os.listdir(zip_dir) if f.endswith(\".zip\")]\n",
    "    \n",
    "    for zip_file in tqdm(zip_files):\n",
    "        zip_path = os.path.join(zip_dir, zip_file)\n",
    "        extract_to = os.path.join(zip_dir, \"tmp\")\n",
    "        \n",
    "        extract_zip(zip_path, extract_to)\n",
    "        \n",
    "        intermediate_folders = os.listdir(extract_to)\n",
    "        if len(intermediate_folders) != 1:\n",
    "            continue \n",
    "        intermediate_folder = os.path.join(extract_to, intermediate_folders[0])\n",
    "        \n",
    "        for class_dir in os.listdir(intermediate_folder):\n",
    "            class_path = os.path.join(intermediate_folder, class_dir)\n",
    "            \n",
    "            if os.path.isdir(class_path):  \n",
    "                for file in os.listdir(class_path):\n",
    "                    file_path = os.path.join(class_path, file)\n",
    "                    \n",
    "                    if file.endswith((\".jpg\")):\n",
    "                        shutil.move(file_path, os.path.join(images_dir, file))\n",
    "                    \n",
    "                    elif file.endswith(\".txt\"):\n",
    "                        shutil.move(file_path, os.path.join(annotations_dir, file))\n",
    "        \n",
    "        shutil.rmtree(extract_to)\n",
    "\n",
    "def clean_and_group_files(image_folder='data/labelized/images/', annotation_folder='data/labelized/annotations/', backup_folder=\"backup_invalid_files\", similarity_threshold=0.8):\n",
    "    logger = init_preprocess_logger()\n",
    "    \n",
    "    os.makedirs(backup_folder, exist_ok=True)\n",
    "\n",
    "    image_files = set(f.replace('.jpg', '') for f in os.listdir(image_folder) if f.endswith('.jpg'))\n",
    "    annotation_files = set(f.replace('.txt', '') for f in os.listdir(annotation_folder) if f.endswith('.txt'))\n",
    "\n",
    "    images_to_delete = image_files - annotation_files\n",
    "    annotations_to_delete = annotation_files - image_files\n",
    "\n",
    "    for img in images_to_delete:\n",
    "        img_path = os.path.join(image_folder, img + '.jpg')\n",
    "        try:\n",
    "            shutil.move(img_path, os.path.join(backup_folder, os.path.basename(img_path)))\n",
    "            logger.info(f\"Moved unmatched image {img_path} to backup folder.\")\n",
    "        except FileNotFoundError:\n",
    "            logger.error(f\"File not found error: {img_path}\")\n",
    "        except Exception as e:\n",
    "            logger.error(f\"Error moving {img_path}: {e}\")\n",
    "\n",
    "    for txt in annotations_to_delete:\n",
    "        txt_path = os.path.join(annotation_folder, txt + '.txt')\n",
    "        try:\n",
    "            shutil.move(txt_path, os.path.join(backup_folder, os.path.basename(txt_path)))\n",
    "            logger.info(f\"Moved unmatched annotation {txt_path} to backup folder.\")\n",
    "        except FileNotFoundError:\n",
    "            logger.error(f\"File not found error: {txt_path}\")\n",
    "        except Exception as e:\n",
    "            logger.error(f\"Error moving {txt_path}: {e}\")\n",
    "\n",
    "    images = sorted([os.path.join(image_folder, img) for img in os.listdir(image_folder) if img.endswith(\".jpg\")])\n",
    "    groups = [] \n",
    "    current_group = [images[0]]\n",
    "\n",
    "    for i in tqdm(range(1, 100)):\n",
    "        try:\n",
    "            score = compare_images(images[i-1], images[i], logger)\n",
    "\n",
    "            if score >= similarity_threshold:\n",
    "                current_group.append(images[i])\n",
    "            else:\n",
    "                groups.append(current_group)\n",
    "                current_group = [images[i]]\n",
    "        \n",
    "        except Exception as e:\n",
    "            logger.error(f\"Error index {i}, image {images[i]} -> {str(e)}\")\n",
    "            shutil.move(images[i], os.path.join(backup_folder, os.path.basename(images[i])))\n",
    "            logger.info(f\"Moved invalid image {images[i]} to backup folder.\")\n",
    "            continue  \n",
    "\n",
    "    return groups\n",
    "\n",
    "\n",
    "def compare_images(img_path1, img_path2, logger):\n",
    "    img1 = cv2.imread(img_path1)\n",
    "    img2 = cv2.imread(img_path2)\n",
    "\n",
    "    if img1 is None or img2 is None:\n",
    "        logger.warning(f\"One of the images is None: {img_path1}, {img_path2}\")\n",
    "        return None \n",
    "\n",
    "    if img1.size != img2.size:\n",
    "        return 0\n",
    "\n",
    "    img1_gray = cv2.cvtColor(img1, cv2.COLOR_BGR2GRAY)\n",
    "    img2_gray = cv2.cvtColor(img2, cv2.COLOR_BGR2GRAY)\n",
    "\n",
    "    score = ssim(img1_gray, img2_gray)\n",
    "    return score"
   ]
  },
  {
   "cell_type": "code",
   "execution_count": 7,
   "id": "29815ffe-dccc-45b0-a149-7c1420d6339b",
   "metadata": {},
   "outputs": [
    {
     "name": "stderr",
     "output_type": "stream",
     "text": [
      "100%|██████████████████████████████████████████████████████████████████████████████████| 99/99 [00:22<00:00,  4.35it/s]\n"
     ]
    }
   ],
   "source": [
    "groups = clean_and_group_files()\n",
    "with open('groups.pkl', 'wb') as file:\n",
    "    pickle.dump(groups, file)"
   ]
  },
  {
   "cell_type": "code",
   "execution_count": 13,
   "id": "dab4ed63-3a36-4885-9e28-ba9c08a329ed",
   "metadata": {},
   "outputs": [
    {
     "name": "stdout",
     "output_type": "stream",
     "text": [
      "FR_N0431633-924_W0000256-9860_20210401_Ardea-cinerea_RCNX0031_SmallestMaxSize.txt\n",
      "FR_N0431633-924_W0000256-9860_20210401_Ardea-cinerea_RCNX0032_SmallestMaxSize.txt\n",
      "FR_N0431633-924_W0000256-9860_20210401_Ardea-cinerea_RCNX0033_SmallestMaxSize.txt\n"
     ]
    }
   ],
   "source": [
    "for data in groups[0]:\n",
    "    print(data.split('/')[-1].replace('.jpg', '.txt'))"
   ]
  },
  {
   "cell_type": "code",
   "execution_count": null,
   "id": "fb664d62-b616-4bfd-ba70-2bb355fddcdb",
   "metadata": {},
   "outputs": [],
   "source": []
  }
 ],
 "metadata": {
  "kernelspec": {
   "display_name": "Python 3 (ipykernel)",
   "language": "python",
   "name": "python3"
  },
  "language_info": {
   "codemirror_mode": {
    "name": "ipython",
    "version": 3
   },
   "file_extension": ".py",
   "mimetype": "text/x-python",
   "name": "python",
   "nbconvert_exporter": "python",
   "pygments_lexer": "ipython3",
   "version": "3.12.6"
  }
 },
 "nbformat": 4,
 "nbformat_minor": 5
}
